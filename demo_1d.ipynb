{
 "cells": [
  {
   "cell_type": "code",
   "execution_count": 1,
   "metadata": {},
   "outputs": [],
   "source": [
    "push!(LOAD_PATH, pwd())\n",
    "using FCV\n",
    "using Plots, LinearAlgebra, Random\n",
    "rng = MersenneTwister(7);"
   ]
  },
  {
   "cell_type": "markdown",
   "metadata": {},
   "source": [
    "# Initialization"
   ]
  },
  {
   "cell_type": "code",
   "execution_count": null,
   "metadata": {},
   "outputs": [],
   "source": [
    "N = 2^10\n",
    "M = N\n",
    "s = 3\n",
    "What = [ abs(freq+1).^s for freq in -N/2:N/2-1 ]\n",
    "fun = x -> peaks(x, 0)\n",
    "nodes = (-N/2:N/2-1)/N\n",
    "function peaks(x, y) # peaks sample function from matlab\n",
    "  x *= 6\n",
    "  y *= 6\n",
    "  z = 3*(1-x)^2*exp(-(x^2) - (y+1)^2) -\n",
    "    10*(x/5 - x^3 - y^5)*exp(-x^2-y^2) -\n",
    "    1/3*exp(-(x+1)^2 - y^2) \n",
    "  return z\n",
    "end\n",
    "f = fun.(nodes)\n",
    "sigma = 0.1\n",
    "fe = f+sigma*(maximum(f)-minimum(f))*randn(rng, size(f))\n",
    "\n",
    "lambda = [ exp(t) for t in range(-20,0, length = 50) ]\n",
    "cv = similar(lambda)\n",
    "l2err = similar(lambda)\n",
    "\n",
    "@time fcv = fcv_t_equispaced(1, fe);"
   ]
  },
  {
   "cell_type": "markdown",
   "metadata": {},
   "source": [
    "# Computations"
   ]
  },
  {
   "cell_type": "code",
   "execution_count": null,
   "metadata": {},
   "outputs": [],
   "source": [
    "@time for i in eachindex(lambda)\n",
    "  res = compute(fcv, lambda[i]*What)\n",
    "  cv[i] = res.gcv\n",
    "  l2err[i] = 1/M*norm(f-res.f_r)\n",
    "end\n",
    "\n",
    "res = compute(fcv, lambda[argmin(cv)]*What);"
   ]
  },
  {
   "cell_type": "markdown",
   "metadata": {},
   "source": [
    "# Plotting"
   ]
  },
  {
   "cell_type": "code",
   "execution_count": null,
   "metadata": {},
   "outputs": [],
   "source": [
    "plot(lambda, cv,\n",
    "  color = :black,\n",
    "  axis = (:log10),\n",
    "  xlabel = \"lambda\",\n",
    "  ylabel = \"cv\",\n",
    "  legend = :none)\n",
    "plot!(twinx(), lambda, l2err,\n",
    "  color = :orange,\n",
    "  legend = :none,\n",
    "  axis = (:log10),\n",
    "  ylabel = \"l2err\",\n",
    "  guidefontcolor = :orange)"
   ]
  },
  {
   "cell_type": "code",
   "execution_count": null,
   "metadata": {},
   "outputs": [],
   "source": [
    " scatter(nodes, fe,\n",
    "    markersize = 1,\n",
    "    label = \"noisy data\")\n",
    "  plot!(nodes, real(res.f_r),\n",
    "    label = \"reconstruction\")"
   ]
  }
 ],
 "metadata": {
  "kernelspec": {
   "display_name": "Julia 1.3.1",
   "language": "julia",
   "name": "julia-1.3"
  },
  "language_info": {
   "file_extension": ".jl",
   "mimetype": "application/julia",
   "name": "julia",
   "version": "1.3.1"
  }
 },
 "nbformat": 4,
 "nbformat_minor": 2
}
